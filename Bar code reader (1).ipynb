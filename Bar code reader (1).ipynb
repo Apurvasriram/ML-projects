{
 "cells": [
  {
   "cell_type": "code",
   "execution_count": 5,
   "metadata": {},
   "outputs": [],
   "source": [
    "import cv2\n",
    "from pyzbar import pyzbar\n"
   ]
  },
  {
   "cell_type": "code",
   "execution_count": 6,
   "metadata": {},
   "outputs": [],
   "source": [
    " def reading(inp):\n",
    "        barcode=pyzbar.decode(inp)\n",
    "        for i in barcode:\n",
    "            x,y,w,h = i.rect\n",
    "            code_info=i.data.decode('utf-8')\n",
    "            cv2.rectangle(inp,(x,y),(x+w,y+h),(0,255,0),2)\n",
    "            \n",
    "            font= cv2.FONT_HERSHEY_DUPLEX\n",
    "            cv2.putText(inp,code_info,(x+6,y-6),font,2.0,(255,255,255),1)\n",
    "            \n",
    "            with open(\"Barcode_results.txt\",mode='w') as file:\n",
    "                file.write(\"COde which was read was\"+code_info)\n",
    "        return inp\n",
    "    \n",
    "    "
   ]
  },
  {
   "cell_type": "code",
   "execution_count": null,
   "metadata": {},
   "outputs": [],
   "source": [
    "def main():\n",
    "    camera = cv2.VideoCapture(0)\n",
    "    ret,inp=camera.read()\n",
    "    while ret:\n",
    "       ret,inp=camera.read()\n",
    "        inp= reading(inp)\n",
    "        cv2.imshow('Barcode/QR code reader', inp)\n",
    "        if cv2.waitKey(1) & 0xFF == 27:\n",
    "            break\n",
    "    camera.release()\n",
    "    cv2.destroyAllWindows()\n",
    "\n",
    "if __name__ == '__main__':\n",
    "    main()"
   ]
  },
  {
   "cell_type": "code",
   "execution_count": null,
   "metadata": {},
   "outputs": [],
   "source": []
  }
 ],
 "metadata": {
  "kernelspec": {
   "display_name": "Python 3",
   "language": "python",
   "name": "python3"
  },
  "language_info": {
   "codemirror_mode": {
    "name": "ipython",
    "version": 3
   },
   "file_extension": ".py",
   "mimetype": "text/x-python",
   "name": "python",
   "nbconvert_exporter": "python",
   "pygments_lexer": "ipython3",
   "version": "3.7.3"
  }
 },
 "nbformat": 4,
 "nbformat_minor": 2
}
